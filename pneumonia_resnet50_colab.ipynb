
{
 "cells": [
  {
   "cell_type": "markdown",
   "metadata": {},
   "source": [
    "# PneumoniaMNIST - ResNet-50 Fine-Tuning (Google Colab)
",
    "
",
    "Fine-tune a pretrained ResNet-50 to classify pneumonia vs. normal from the PneumoniaMNIST dataset (in .npz format)."
   ]
  },
  {
   "cell_type": "code",
   "execution_count": null,
   "metadata": {},
   "outputs": [],
   "source": [
    "# 🔧 Setup
",
    "!pip install -q torchvision numpy matplotlib scikit-learn
",
    "import numpy as np
",
    "import torch
",
    "import torch.nn as nn
",
    "import torch.optim as optim
",
    "import torchvision.models as models
",
    "import torchvision.transforms as transforms
",
    "import matplotlib.pyplot as plt
",
    "from torch.utils.data import Dataset, DataLoader, random_split
",
    "from sklearn.metrics import accuracy_score, precision_score, recall_score, confusion_matrix
",
    "import seaborn as sns
",
    "from pathlib import Path
",
    "import zipfile
",
    "
",
    "device = torch.device("cuda" if torch.cuda.is_available() else "cpu")
",
    "print("Using device:", device)"
   ]
  },
  {
   "cell_type": "code",
   "execution_count": null,
   "metadata": {},
   "outputs": [],
   "source": [
    "# 📦 Load .npz PneumoniaMNIST dataset
",
    "from google.colab import files
",
    "uploaded = files.upload()
",
    "
",
    "npz_file = next(iter(uploaded))
",
    "data = np.load(npz_file)
",
    "
",
    "x_train, y_train = data['train_images'], data['train_labels']
",
    "x_val, y_val = data['val_images'], data['val_labels']
",
    "x_test, y_test = data['test_images'], data['test_labels']
",
    "
",
    "# Convert grayscale to 3-channel RGB
",
    "def expand_channels(x):
",
    "    return np.repeat(x[..., np.newaxis], 3, -1)
",
    "
",
    "x_train = expand_channels(x_train)
",
    "x_val = expand_channels(x_val)
",
    "x_test = expand_channels(x_test)"
   ]
  },
  {
   "cell_type": "code",
   "execution_count": null,
   "metadata": {},
   "outputs": [],
   "source": [
    "# 🧹 Custom Dataset
",
    "class PneumoniaDataset(Dataset):
",
    "    def __init__(self, images, labels, transform=None):
",
    "        self.images = images
",
    "        self.labels = labels
",
    "        self.transform = transform
",
    "
",
    "    def __len__(self):
",
    "        return len(self.images)
",
    "
",
    "    def __getitem__(self, idx):
",
    "        image = self.images[idx].astype(np.uint8)
",
    "        label = int(self.labels[idx])
",
    "        if self.transform:
",
    "            image = self.transform(image)
",
    "        return image, label
",
    "
",
    "# Define transforms
",
    "train_transform = transforms.Compose([
",
    "    transforms.ToPILImage(),
",
    "    transforms.RandomHorizontalFlip(),
",
    "    transforms.RandomRotation(10),
",
    "    transforms.ToTensor(),
",
    "    transforms.Normalize([0.5]*3, [0.5]*3)
",
    "])
",
    "
",
    "test_transform = transforms.Compose([
",
    "    transforms.ToPILImage(),
",
    "    transforms.ToTensor(),
",
    "    transforms.Normalize([0.5]*3, [0.5]*3)
",
    "])
",
    "
",
    "train_ds = PneumoniaDataset(x_train, y_train, transform=train_transform)
",
    "val_ds = PneumoniaDataset(x_val, y_val, transform=test_transform)
",
    "test_ds = PneumoniaDataset(x_test, y_test, transform=test_transform)
",
    "
",
    "train_loader = DataLoader(train_ds, batch_size=64, shuffle=True)
",
    "val_loader = DataLoader(val_ds, batch_size=64)
",
    "test_loader = DataLoader(test_ds, batch_size=64)"
   ]
  },
  {
   "cell_type": "code",
   "execution_count": null,
   "metadata": {},
   "outputs": [],
   "source": [
    "# 🔍 Model Setup
",
    "model = models.resnet50(pretrained=True)
",
    "model.fc = nn.Linear(model.fc.in_features, 2)  # binary classification
",
    "model = model.to(device)
",
    "
",
    "criterion = nn.CrossEntropyLoss()
",
    "optimizer = optim.Adam(model.parameters(), lr=1e-4)"
   ]
  },
  {
   "cell_type": "code",
   "execution_count": null,
   "metadata": {}, 
   "outputs": [],
   "source": [
    "# 🏋️ Training Loop
",
    "for epoch in range(10):
",
    "    model.train()
",
    "    total_loss = 0
",
    "    for images, labels in train_loader:
",
    "        images, labels = images.to(device), labels.to(device)
",
    "        outputs = model(images)
",
    "        loss = criterion(outputs, labels)
",
    "        optimizer.zero_grad()
",
    "        loss.backward()
",
    "        optimizer.step()
",
    "        total_loss += loss.item()
",
    "    print(f"Epoch {epoch+1}, Loss: {total_loss/len(train_loader):.4f}")"
   ]
  },
  {
   "cell_type": "code",
   "execution_count": null,
   "metadata": {}, 
   "outputs": [],
   "source": [
    "# 📊 Evaluation
",
    "model.eval()
",
    "y_true, y_pred = [], []
",
    "with torch.no_grad():
",
    "    for images, labels in test_loader:
",
    "        images = images.to(device)
",
    "        outputs = model(images)
",
    "        preds = torch.argmax(outputs, dim=1).cpu().numpy()
",
    "        y_pred.extend(preds)
",
    "        y_true.extend(labels.numpy())
",
    "
",
    "acc = accuracy_score(y_true, y_pred)
",
    "prec = precision_score(y_true, y_pred)
",
    "rec = recall_score(y_true, y_pred)
",
    "
",
    "print(f"Accuracy: {acc:.4f}, Precision: {prec:.4f}, Recall: {rec:.4f}")"
   ]
  }
 ],
 "metadata": {
  "kernelspec": {
   "display_name": "Python 3",
   "language": "python",
   "name": "python3"
  },
  "language_info": {
   "name": "python",
   "version": "3.9"
  }
 },
 "nbformat": 4,
 "nbformat_minor": 2
}
